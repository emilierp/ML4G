{
 "cells": [
  {
   "cell_type": "markdown",
   "metadata": {},
   "source": [
    "\"\"\"\n",
    "# Pre-MLAB PyTorch Exercises\n",
    "\n",
    "These exercises will prepare you for actual implementation challenges that will come up during the course. They are not comprehensive, but feeling comfortable with these techniques will save you time during the course and allow you to focus more on concepts and less on coaxing PyTorch and einops to do what you want. \n",
    "\n",
    "<!-- toc -->\n",
    "\n",
    "## Setup\n",
    "\n",
    "### Installing Python\n",
    "\n",
    "If you don't have Python 3.8 or higher installed, the most foolproof way is to first install Miniconda from:\n",
    "\n",
    "[https://docs.conda.io/en/latest/miniconda.htm](https://docs.conda.io/en/latest/miniconda.htm)\n",
    "\n",
    "### Installing PyTorch\n",
    "\n",
    "Follow the instructions at [https://pytorch.org](https://pytorch.org/), using the \"conda\" option if you installed Miniconda. You don't need a GPU or CUDA for these exercises, so you can use the CPU compute platform.\n",
    "\n",
    "### Installing `einops`\n",
    "\n",
    "`pip install einops` at the command line should be all you need.\n",
    "\n",
    "### Visual Studio Code\n",
    "\n",
    "We will be using [Visual Studio Code](https://code.visualstudio.com/) as the official IDE for the course. Compared to PyCharm, it's free and roughly as good. Compared to Jupyter, it has superior autocomplete, static type-checking, Git integration, and an integrated debugger. Tips for VS Code:\n",
    "\n",
    "- You can view Markdown files in VS Code by right clicking on the file in the Explorer pane and selecting \"Open Preview\".\n",
    "- Enable word wrap in VS Code using Alt+Z or View -> Word Wrap.\n",
    "- You can have a Jupyter-like notebook experience within a regular `.py` file by using the special comment `# %%` to delimit notebook cells. VS Code will recognize these and give you the option to run cells (Shift-Enter by default on my machine) or debug cells individually.\n",
    "\n",
    "## Workflow\n",
    "\n",
    "- The most basic thing you can do is copy the exercises into a new `.py` file and run the file as a normal script. Wherever you see a `pass` statement, this is where you write your code so that the function behaves as described and the assertions pass.\n",
    "- It's more efficient to use the REPL and split up your `.py` file with notebook cells using `# %%`. Write and check your code one line at a time, verifying they do what you expect and only once you think it's working, paste it into the function body to confirm. This avoids spending time figuring out which line of code isn't working properly.\n",
    "\n",
    "## Tips\n",
    "\n",
    "- To get the most out of these exercises, make sure you understand why all of the assertions should be true, and feel free to add more assertions.\n",
    "- If you're having trouble writing a batched computation, try doing the unbatched version first.\n",
    "- If you find these exercises challenging, it would be beneficial to go through them a second time so they feel more natural.\n",
    "\n",
    "## Support\n",
    "\n",
    "At some point you'll be added to a MLAB Slack and be able to ask questions there. If you need help before then, feel free to email `chris` at `rdwrs.com` directly.\n",
    "\"\"\"\n"
   ]
  },
  {
   "cell_type": "code",
   "execution_count": 2,
   "metadata": {},
   "outputs": [],
   "source": [
    "import math\n",
    "from einops import rearrange, repeat, reduce\n",
    "import torch as t\n",
    "\n",
    "\n",
    "def assert_all_equal(actual: t.Tensor, expected: t.Tensor) -> None:\n",
    "    assert actual.shape == expected.shape, f\"Shape mismatch, got: {actual.shape}\"\n",
    "    assert (actual == expected).all(), f\"Value mismatch, got: {actual}\"\n",
    "    print(\"Passed!\")\n",
    "\n",
    "\n",
    "def assert_all_close(actual: t.Tensor, expected: t.Tensor, rtol=1e-5, atol=1e-4) -> None:\n",
    "    assert actual.shape == expected.shape, f\"Shape mismatch, got: {actual.shape}\"\n",
    "    assert t.allclose(actual, expected, rtol=rtol, atol=atol)\n",
    "    print(\"Passed!\")"
   ]
  },
  {
   "cell_type": "code",
   "execution_count": 3,
   "metadata": {},
   "outputs": [
    {
     "name": "stdout",
     "output_type": "stream",
     "text": [
      "Passed!\n"
     ]
    }
   ],
   "source": [
    "def rearrange_1() -> t.Tensor:\n",
    "    \"\"\"Return the following tensor using only torch.arange and einops.rearrange:\n",
    "\n",
    "    [[3, 4],\n",
    "     [5, 6],\n",
    "     [7, 8]]\n",
    "    \"\"\"\n",
    "    return rearrange(t.arange(3, 9), \"(h w) -> h w\", h=3, w=2)\n",
    "\n",
    "\n",
    "expected = t.tensor([[3, 4], [5, 6], [7, 8]])\n",
    "assert_all_equal(rearrange_1(), expected)"
   ]
  },
  {
   "cell_type": "code",
   "execution_count": 4,
   "metadata": {},
   "outputs": [
    {
     "name": "stdout",
     "output_type": "stream",
     "text": [
      "Passed!\n"
     ]
    }
   ],
   "source": [
    "def rearrange_2() -> t.Tensor:\n",
    "    \"\"\"Return the following tensor using only torch.arange and einops.rearrange:\n",
    "\n",
    "    [[1, 2, 3],\n",
    "     [4, 5, 6]]\n",
    "    \"\"\"\n",
    "    return rearrange(t.arange(1, 7), \"(h w) -> h w\", h=2, w=3)\n",
    "\n",
    "\n",
    "assert_all_equal(rearrange_2(), t.tensor([[1, 2, 3], [4, 5, 6]]))\n"
   ]
  },
  {
   "cell_type": "code",
   "execution_count": 5,
   "metadata": {},
   "outputs": [
    {
     "name": "stdout",
     "output_type": "stream",
     "text": [
      "Passed!\n"
     ]
    }
   ],
   "source": [
    "def rearrange_3() -> t.Tensor:\n",
    "    \"\"\"Return the following tensor using only torch.arange and einops.rearrange:\n",
    "\n",
    "    [[[1], [2], [3], [4], [5], [6]]]\n",
    "    \"\"\"\n",
    "    return rearrange(t.arange(1, 7), \"a -> 1 a 1\")\n",
    "\n",
    "\n",
    "assert_all_equal(rearrange_3(), t.tensor([[[1], [2], [3], [4], [5], [6]]]))"
   ]
  },
  {
   "attachments": {},
   "cell_type": "markdown",
   "metadata": {},
   "source": [
    "## Creating Tensors: Tensor vs tensor\n",
    "\n",
    "Two ways to create objects of type `t.Tensor` are:\n",
    "\n",
    "1) Call the constructor of `t.Tensor`\n",
    "2) Use the creation function `t.tensor`\n",
    "\n",
    "The constructor way is fraught with peril. What should the following cell print?\n"
   ]
  },
  {
   "cell_type": "code",
   "execution_count": 6,
   "metadata": {},
   "outputs": [
    {
     "name": "stdout",
     "output_type": "stream",
     "text": [
      "tensor([9.2755e-39, 1.0561e-38, 6.3368e-39, 6.7041e-39, 6.7041e-39]) tensor([5.]) tensor([5.])\n"
     ]
    }
   ],
   "source": [
    "x = t.arange(5)\n",
    "y = t.Tensor(x.shape)\n",
    "y2 = t.Tensor(tuple(x.shape))\n",
    "y3 = t.Tensor(list(x.shape))\n",
    "print(y, y2, y3)"
   ]
  },
  {
   "attachments": {},
   "cell_type": "markdown",
   "metadata": {},
   "source": [
    "What should this cell print?"
   ]
  },
  {
   "cell_type": "code",
   "execution_count": 7,
   "metadata": {},
   "outputs": [
    {
     "name": "stdout",
     "output_type": "stream",
     "text": [
      "torch.float32\n"
     ]
    }
   ],
   "source": [
    "\n",
    "x = t.Tensor([False, True])\n",
    "print(x.dtype)"
   ]
  },
  {
   "cell_type": "markdown",
   "metadata": {},
   "source": [
    "\n",
    "Because the first argument can either be interpreted input data OR the shape, and because the constructor silently coerces your input data to the default floating point type, using the constructor is a recipe for bugs. I recommend never calling the constructor, and only using `t.Tensor` for type signatures.\n",
    "\n",
    "In contrast, `t.tensor` with no dtype specified will try to detect the type of your input automatically. This is usually what you want, but not always. What does the following code do?\n"
   ]
  },
  {
   "cell_type": "code",
   "execution_count": 8,
   "metadata": {},
   "outputs": [
    {
     "name": "stdout",
     "output_type": "stream",
     "text": [
      "Exception raised:  mean(): could not infer output dtype. Input dtype must be either a floating point or complex dtype. Got: Long\n"
     ]
    }
   ],
   "source": [
    "try:\n",
    "    print(t.tensor([1, 2, 3, 4]).mean())\n",
    "except Exception as e:\n",
    "    print(\"Exception raised: \", e)"
   ]
  },
  {
   "cell_type": "markdown",
   "metadata": {},
   "source": [
    "NumPy's `np.mean` would coerce to float and return 2.5 here, but PyTorch detects that your inputs all happen to be integers and refuses to compute the mean because it's ambiguous if you wanted 2.5 or 10 // 4 = 2 instead.\n",
    "\n",
    "The best practice to avoid surprises and ambiguity is to use `t.tensor` and pass the dtype explicitly. \n",
    "\n",
    "Other good ways to create tensors are:\n",
    "\n",
    "- If you already have a tensor `input` and want a new one of the same size, use functions like [`t.zeros_like(input)`](https://pytorch.org/docs/stable/generated/torch.zeros_like.html). This uses the dtype and device of the input by default, saving you from manually specifying it.\n",
    "- If you already have a tensor `input` and want a new one with the same dtype and device but new data, use the [`input.new_tensor`](https://pytorch.org/docs/stable/generated/torch.Tensor.new_tensor.html#torch.Tensor.new_tensor) method.\n",
    "- Many [other creation functions](https://pytorch.org/docs/stable/torch.html#creation-ops) exist, for which you should also specify the dtype explicitly.\n"
   ]
  },
  {
   "cell_type": "code",
   "execution_count": 15,
   "metadata": {},
   "outputs": [],
   "source": [
    "def temperatures_average(temps: t.Tensor) -> t.Tensor:\n",
    "    \"\"\"Return the average temperature for each week.\n",
    "\n",
    "    temps: a 1D temperature containing temperatures for each day.\n",
    "    Length will be a multiple of 7 and the first 7 days are for the first week, second 7 days for the second week, etc.\n",
    "\n",
    "    You can do this with a single call to reduce.\n",
    "    \"\"\"\n",
    "    assert len(temps) % 7 == 0\n",
    "    return reduce(temps, \"(w 7) -> w\", \"mean\")\n"
   ]
  },
  {
   "cell_type": "code",
   "execution_count": 16,
   "metadata": {},
   "outputs": [
    {
     "name": "stdout",
     "output_type": "stream",
     "text": [
      "Passed!\n"
     ]
    }
   ],
   "source": [
    "temps = t.tensor([71, 72, 70, 75, 71, 72, 70, 68, 65, 60, 68, 60, 55, 59, 75, 80, 85, 80, 78, 72, 83], dtype=t.float32)\n",
    "expected = t.tensor([71.5714, 62.1429, 79.0])\n",
    "assert_all_close(temperatures_average(temps), expected)"
   ]
  },
  {
   "cell_type": "code",
   "execution_count": 19,
   "metadata": {},
   "outputs": [],
   "source": [
    "def temperatures_differences(temps: t.Tensor) -> t.Tensor:\n",
    "    \"\"\"For each day, subtract the average for the week the day belongs to.\n",
    "\n",
    "    temps: as above\n",
    "    \"\"\"\n",
    "    assert len(temps) % 7 == 0\n",
    "    avg = repeat(temperatures_average(temps), \"w  -> (w 7)\")\n",
    "    return temps - avg"
   ]
  },
  {
   "cell_type": "code",
   "execution_count": 20,
   "metadata": {},
   "outputs": [
    {
     "name": "stdout",
     "output_type": "stream",
     "text": [
      "Passed!\n"
     ]
    }
   ],
   "source": [
    "expected = t.tensor(\n",
    "    [\n",
    "        -0.5714,\n",
    "        0.4286,\n",
    "        -1.5714,\n",
    "        3.4286,\n",
    "        -0.5714,\n",
    "        0.4286,\n",
    "        -1.5714,\n",
    "        5.8571,\n",
    "        2.8571,\n",
    "        -2.1429,\n",
    "        5.8571,\n",
    "        -2.1429,\n",
    "        -7.1429,\n",
    "        -3.1429,\n",
    "        -4.0,\n",
    "        1.0,\n",
    "        6.0,\n",
    "        1.0,\n",
    "        -1.0,\n",
    "        -7.0,\n",
    "        4.0,\n",
    "    ]\n",
    ")\n",
    "actual = temperatures_differences(temps)\n",
    "assert_all_close(actual, expected)"
   ]
  },
  {
   "cell_type": "code",
   "execution_count": 26,
   "metadata": {},
   "outputs": [],
   "source": [
    "def temperatures_normalized(temps: t.Tensor) -> t.Tensor:\n",
    "    \"\"\"For each day, subtract the weekly average and divide by the weekly standard deviation.\n",
    "\n",
    "    temps: as above\n",
    "\n",
    "    Pass torch.std to reduce.\n",
    "    \"\"\"\n",
    "    avg = repeat(temperatures_average(temps), \"w  -> (w 7)\")\n",
    "    std = repeat(reduce(temps, \"(w 7) -> w\", t.std), \"w -> (w 7)\")\n",
    "    return (temps - avg) / std"
   ]
  },
  {
   "cell_type": "code",
   "execution_count": 27,
   "metadata": {},
   "outputs": [
    {
     "name": "stdout",
     "output_type": "stream",
     "text": [
      "Passed!\n"
     ]
    }
   ],
   "source": [
    "expected = t.tensor(\n",
    "    [\n",
    "        -0.3326,\n",
    "        0.2494,\n",
    "        -0.9146,\n",
    "        1.9954,\n",
    "        -0.3326,\n",
    "        0.2494,\n",
    "        -0.9146,\n",
    "        1.1839,\n",
    "        0.5775,\n",
    "        -0.4331,\n",
    "        1.1839,\n",
    "        -0.4331,\n",
    "        -1.4438,\n",
    "        -0.6353,\n",
    "        -0.8944,\n",
    "        0.2236,\n",
    "        1.3416,\n",
    "        0.2236,\n",
    "        -0.2236,\n",
    "        -1.5652,\n",
    "        0.8944,\n",
    "    ]\n",
    ")\n",
    "actual = temperatures_normalized(temps)\n",
    "assert_all_close(actual, expected)"
   ]
  },
  {
   "cell_type": "code",
   "execution_count": 33,
   "metadata": {},
   "outputs": [],
   "source": [
    "def batched_dot_product_nd(a: t.Tensor, b: t.Tensor) -> t.Tensor:\n",
    "    \"\"\"Return the batched dot product of a and b, where the first dimension is the batch dimension.\n",
    "\n",
    "    That is, out[i] = dot(a[i], b[i]) for i in 0..len(a).\n",
    "    a and b can have any number of dimensions greater than 1.\n",
    "\n",
    "    a: shape (b, i_1, i_2, ..., i_n)\n",
    "    b: shape (b, i_1, i_2, ..., i_n)\n",
    "\n",
    "    Returns: shape (b, )\n",
    "\n",
    "    Use torch.einsum. You can use the ellipsis \"...\" in the einsum formula to represent an arbitrary number of dimensions.\n",
    "    \"\"\"\n",
    "    assert a.shape == b.shape\n",
    "    return t.einsum(\"d...,d... -> d\", a, b)"
   ]
  },
  {
   "cell_type": "code",
   "execution_count": 34,
   "metadata": {},
   "outputs": [
    {
     "name": "stdout",
     "output_type": "stream",
     "text": [
      "Passed!\n",
      "Passed!\n"
     ]
    }
   ],
   "source": [
    "actual = batched_dot_product_nd(t.tensor([[1, 1, 0], [0, 0, 1]]), t.tensor([[1, 1, 0], [1, 1, 0]]))\n",
    "expected = t.tensor([2, 0])\n",
    "assert_all_equal(actual, expected)\n",
    "actual2 = batched_dot_product_nd(t.arange(12).reshape((3, 2, 2)), t.arange(12).reshape((3, 2, 2)))\n",
    "expected2 = t.tensor([14, 126, 366])\n",
    "assert_all_equal(actual2, expected2)\n"
   ]
  },
  {
   "cell_type": "code",
   "execution_count": 42,
   "metadata": {},
   "outputs": [],
   "source": [
    "def identity_matrix(n: int) -> t.Tensor:\n",
    "    \"\"\"Return the identity matrix of size nxn.\n",
    "\n",
    "    Don't use torch.eye or similar.\n",
    "\n",
    "    Hint: you can do it with arange, rearrange, and ==.\n",
    "    Bonus: find a different way to do it.\n",
    "    \"\"\"\n",
    "    assert n >= 0\n",
    "    return (rearrange(t.arange(n), \"i->i 1\") == t.arange(n)).float()\n"
   ]
  },
  {
   "cell_type": "code",
   "execution_count": 43,
   "metadata": {},
   "outputs": [
    {
     "name": "stdout",
     "output_type": "stream",
     "text": [
      "Passed!\n",
      "Passed!\n"
     ]
    }
   ],
   "source": [
    "assert_all_equal(identity_matrix(3), t.tensor([[1, 0, 0], [0, 1, 0], [0, 0, 1]]))\n",
    "assert_all_equal(identity_matrix(0), t.zeros((0, 0)))"
   ]
  },
  {
   "cell_type": "code",
   "execution_count": 55,
   "metadata": {},
   "outputs": [],
   "source": [
    "def sample_distribution(probs: t.Tensor, n: int) -> t.Tensor:\n",
    "    \"\"\"Return n random samples from probs, where probs is a normalized probability distribution.\n",
    "\n",
    "    probs: shape (k,) where probs[i] is the probability of event i occurring.\n",
    "    n: number of random samples\n",
    "\n",
    "    Return: shape (n,) where out[i] is an integer indicating which event was sampled.\n",
    "\n",
    "    Use torch.rand and torch.cumsum to do this without any explicit loops.\n",
    "\n",
    "    Note: if you think your solution is correct but the test is failing, try increasing the value of n.\n",
    "    \"\"\"\n",
    "    assert abs(probs.sum() - 1.0) < 1e-3\n",
    "    assert (probs >= 0).all()\n",
    "    return (t.rand(n, 1) > t.cumsum(probs, dim=0)).sum(dim=-1)\n"
   ]
  },
  {
   "cell_type": "code",
   "execution_count": 56,
   "metadata": {},
   "outputs": [
    {
     "name": "stdout",
     "output_type": "stream",
     "text": [
      "Passed!\n"
     ]
    }
   ],
   "source": [
    "n = 10000000\n",
    "probs = t.tensor([0.05, 0.1, 0.1, 0.2, 0.15, 0.4])\n",
    "freqs = t.bincount(sample_distribution(probs, n)) / n\n",
    "assert_all_close(freqs, probs, rtol=1e-3, atol=1e-3)"
   ]
  },
  {
   "cell_type": "code",
   "execution_count": 67,
   "metadata": {},
   "outputs": [],
   "source": [
    "def classifier_accuracy(scores: t.Tensor, true_classes: t.Tensor) -> t.Tensor:\n",
    "    \"\"\"Return the fraction of inputs for which the maximum score corresponds to the true class for that input.\n",
    "\n",
    "    scores: shape (batch, n_classes). A higher score[b, i] means that the classifier thinks class i is more likely.\n",
    "    true_classes: shape (batch, ). true_classes[b] is an integer from [0...n_classes).\n",
    "\n",
    "    Use torch.argmax.\n",
    "    \"\"\"\n",
    "    assert true_classes.max() < scores.shape[1]\n",
    "    return (t.argmax(scores,dim=1) == true_classes).float().mean()\n"
   ]
  },
  {
   "cell_type": "code",
   "execution_count": 68,
   "metadata": {},
   "outputs": [],
   "source": [
    "scores = t.tensor([[0.75, 0.5, 0.25], [0.1, 0.5, 0.4], [0.1, 0.7, 0.2]])\n",
    "true_classes = t.tensor([0, 1, 0])\n",
    "expected = 2.0 / 3.0\n",
    "assert classifier_accuracy(scores, true_classes) == expected"
   ]
  },
  {
   "cell_type": "code",
   "execution_count": 74,
   "metadata": {},
   "outputs": [],
   "source": [
    "def total_price_indexing(prices: t.Tensor, items: t.Tensor) -> float:\n",
    "    \"\"\"Given prices for each kind of item and a tensor of items purchased, return the total price.\n",
    "\n",
    "    prices: shape (k, ). prices[i] is the price of the ith item.\n",
    "    items: shape (n, ). A 1D tensor where each value is an item index from [0..k).\n",
    "\n",
    "    Use integer array indexing. The below document describes this for NumPy but it's the same in PyTorch:\n",
    "\n",
    "    https://numpy.org/doc/stable/user/basics.indexing.html#integer-array-indexing\n",
    "    \"\"\"\n",
    "    assert items.max() < prices.shape[0]\n",
    "    return prices[items].sum().item()\n"
   ]
  },
  {
   "cell_type": "code",
   "execution_count": 75,
   "metadata": {},
   "outputs": [],
   "source": [
    "prices = t.tensor([0.5, 1, 1.5, 2, 2.5])\n",
    "items = t.tensor([0, 0, 1, 1, 4, 3, 2])\n",
    "assert total_price_indexing(prices, items) == 9.0"
   ]
  },
  {
   "cell_type": "code",
   "execution_count": 83,
   "metadata": {},
   "outputs": [],
   "source": [
    "def gather_2d(matrix: t.Tensor, indexes: t.Tensor) -> t.Tensor:\n",
    "    \"\"\"Perform a gather operation along the second dimension.\n",
    "\n",
    "    matrix: shape (m, n)\n",
    "    indexes: shape (m, k)\n",
    "\n",
    "    Return: shape (m, k). out[i][j] = matrix[i][indexes[i][j]]\n",
    "\n",
    "    For this problem, the test already passes and it's your job to write at least three asserts relating the arguments and the output. This is a tricky function and worth spending some time to wrap your head around its behavior.\n",
    "\n",
    "    See: https://pytorch.org/docs/stable/generated/torch.gather.html?highlight=gather#torch.gather\n",
    "    \"\"\"\n",
    "    assert matrix.ndim == indexes.ndim\n",
    "    assert indexes.shape[0] <= matrix.shape[0] \n",
    "    out = matrix.gather(1, indexes)\n",
    "    assert out.shape == indexes.shape\n",
    "    return out\n"
   ]
  },
  {
   "cell_type": "code",
   "execution_count": 84,
   "metadata": {},
   "outputs": [
    {
     "name": "stdout",
     "output_type": "stream",
     "text": [
      "Passed!\n",
      "Passed!\n"
     ]
    }
   ],
   "source": [
    "matrix = t.arange(15).view(3, 5)\n",
    "indexes = t.tensor([[4], [3], [2]])\n",
    "expected = t.tensor([[4], [8], [12]])\n",
    "assert_all_equal(gather_2d(matrix, indexes), expected)\n",
    "\n",
    "indexes2 = t.tensor([[2, 4], [1, 3], [0, 2]])\n",
    "expected2 = t.tensor([[2, 4], [6, 8], [10, 12]])\n",
    "assert_all_equal(gather_2d(matrix, indexes2), expected2)\n"
   ]
  },
  {
   "cell_type": "code",
   "execution_count": 91,
   "metadata": {},
   "outputs": [],
   "source": [
    "def total_price_gather(prices: t.Tensor, items: t.Tensor) -> float:\n",
    "    \"\"\"Compute the same as total_price_indexing, but use torch.gather.\"\"\"\n",
    "    assert items.max() < prices.shape[0]\n",
    "    return prices.gather(0,items).sum().item()"
   ]
  },
  {
   "cell_type": "code",
   "execution_count": 92,
   "metadata": {},
   "outputs": [],
   "source": [
    "prices = t.tensor([0.5, 1, 1.5, 2, 2.5])\n",
    "items = t.tensor([0, 0, 1, 1, 4, 3, 2])\n",
    "assert total_price_gather(prices, items) == 9.0"
   ]
  },
  {
   "cell_type": "code",
   "execution_count": 118,
   "metadata": {},
   "outputs": [],
   "source": [
    "def integer_array_indexing(matrix: t.Tensor, coords: t.Tensor) -> t.Tensor:\n",
    "    \"\"\"Return the values at each coordinate using integer array indexing.\n",
    "\n",
    "    For details on integer array indexing, see:\n",
    "    https://numpy.org/doc/stable/user/basics.indexing.html#integer-array-indexing\n",
    "\n",
    "    matrix: shape (d_0, d_1, ..., d_n)\n",
    "    coords: shape (batch, n)\n",
    "\n",
    "    Return: (batch, )\n",
    "    \"\"\"\n",
    "    return matrix[tuple(coords.T)]"
   ]
  },
  {
   "cell_type": "code",
   "execution_count": 119,
   "metadata": {},
   "outputs": [
    {
     "name": "stdout",
     "output_type": "stream",
     "text": [
      "Passed!\n",
      "Passed!\n"
     ]
    }
   ],
   "source": [
    "mat_2d = t.arange(15).view(3, 5)\n",
    "coords_2d = t.tensor([[0, 1], [0, 4], [1, 4]])\n",
    "actual = integer_array_indexing(mat_2d, coords_2d)\n",
    "assert_all_equal(actual, t.tensor([1, 4, 9]))\n",
    "mat_3d = t.arange(2 * 3 * 4).view((2, 3, 4))\n",
    "coords_3d = t.tensor([[0, 0, 0], [0, 1, 1], [0, 2, 2], [1, 0, 3], [1, 2, 0]])\n",
    "actual = integer_array_indexing(mat_3d, coords_3d)\n",
    "assert_all_equal(actual, t.tensor([0, 5, 10, 15, 20]))\n"
   ]
  },
  {
   "cell_type": "code",
   "execution_count": 142,
   "metadata": {},
   "outputs": [],
   "source": [
    "def batched_logsumexp(matrix: t.Tensor) -> t.Tensor:\n",
    "    \"\"\"For each row of the matrix, compute log(sum(exp(row))) in a numerically stable way.\n",
    "\n",
    "    matrix: shape (batch, n)\n",
    "\n",
    "    Return: (batch, ). For each i, out[i] = log(sum(exp(matrix[i]))).\n",
    "\n",
    "    Do this without using PyTorch's logsumexp function.\n",
    "\n",
    "    A couple useful blogs about this function:\n",
    "    - https://leimao.github.io/blog/LogSumExp/\n",
    "    - https://gregorygundersen.com/blog/2020/02/09/log-sum-exp/\n",
    "    \"\"\"\n",
    "    C = matrix.max(dim=-1).values\n",
    "    return C + t.log(t.sum(t.exp(matrix - rearrange(C, \"d -> d 1\")),dim=-1))\n"
   ]
  },
  {
   "cell_type": "code",
   "execution_count": 143,
   "metadata": {},
   "outputs": [
    {
     "name": "stdout",
     "output_type": "stream",
     "text": [
      "Passed!\n",
      "Passed!\n"
     ]
    }
   ],
   "source": [
    "matrix = t.tensor([[-1000, -1000, -1000, -1000], [1000, 1000, 1000, 1000]])\n",
    "expected = t.tensor([-1000 + math.log(4), 1000 + math.log(4)])\n",
    "actual = batched_logsumexp(matrix)\n",
    "assert_all_close(actual, expected)\n",
    "\n",
    "matrix2 = t.randn((10, 20))\n",
    "expected2 = t.logsumexp(matrix2, dim=-1)\n",
    "actual2 = batched_logsumexp(matrix2)\n",
    "assert_all_close(actual2, expected2)"
   ]
  },
  {
   "cell_type": "code",
   "execution_count": 171,
   "metadata": {},
   "outputs": [],
   "source": [
    "def batched_softmax(matrix: t.Tensor) -> t.Tensor:\n",
    "    \"\"\"For each row of the matrix, compute softmax(row).\n",
    "\n",
    "    Do this without using PyTorch's softmax function.\n",
    "    Instead, use the definition of softmax: https://en.wikipedia.org/wiki/Softmax_function\n",
    "\n",
    "    matrix: shape (batch, n)\n",
    "\n",
    "    Return: (batch, n). For each i, out[i] should sum to 1.\n",
    "    \"\"\"\n",
    "    return t.exp(matrix) /  t.sum(t.exp(matrix),dim=-1,keepdim=True)\n"
   ]
  },
  {
   "cell_type": "code",
   "execution_count": 172,
   "metadata": {},
   "outputs": [
    {
     "name": "stdout",
     "output_type": "stream",
     "text": [
      "Passed!\n",
      "Passed!\n",
      "Passed!\n",
      "Passed!\n",
      "Passed!\n",
      "Passed!\n",
      "Passed!\n"
     ]
    }
   ],
   "source": [
    "matrix = t.arange(1, 6).view((1, 5)).float().log()\n",
    "expected = t.arange(1, 6).view((1, 5)) / 15.0\n",
    "actual = batched_softmax(matrix)\n",
    "assert_all_close(actual, expected)\n",
    "\n",
    "for i in [0.12, 3.4, -5, 6.7]:\n",
    "    assert_all_close(actual, batched_softmax(matrix + i))\n",
    "\n",
    "matrix2 = t.rand((10, 20))\n",
    "actual2 = batched_softmax(matrix2)\n",
    "assert actual2.min() >= 0.0\n",
    "assert actual2.max() <= 1.0\n",
    "assert_all_equal(actual2.argsort(), matrix2.argsort())\n",
    "assert_all_close(actual2.sum(dim=-1), t.ones(matrix2.shape[:-1]))"
   ]
  },
  {
   "cell_type": "code",
   "execution_count": 181,
   "metadata": {},
   "outputs": [],
   "source": [
    "def batched_logsoftmax(matrix: t.Tensor) -> t.Tensor:\n",
    "    \"\"\"Compute log(softmax(row)) for each row of the matrix.\n",
    "\n",
    "    matrix: shape (batch, n)\n",
    "\n",
    "    Return: (batch, n). For each i, exp(out[i]) should sum to 1.\n",
    "\n",
    "    Do this without using PyTorch's logsoftmax function.\n",
    "    For each row, subtract the maximum first to avoid overflow if the row contains large values.\n",
    "    \"\"\"\n",
    "    C = matrix.max(dim=-1,keepdim=True).values\n",
    "    return t.log(t.exp(matrix - C) / t.sum(t.exp(matrix - C),dim=-1,keepdim=True))\n",
    "    # return matrix - C - (matrix - C).exp().sum(dim=1, keepdim=True).log()"
   ]
  },
  {
   "cell_type": "code",
   "execution_count": 182,
   "metadata": {},
   "outputs": [
    {
     "name": "stdout",
     "output_type": "stream",
     "text": [
      "Passed!\n"
     ]
    }
   ],
   "source": [
    "matrix = t.arange(1, 6).view((1, 5)).float()\n",
    "start = 1000\n",
    "matrix2 = t.arange(start + 1, start + 6).view((1, 5)).float()\n",
    "actual = batched_logsoftmax(matrix2)\n",
    "expected = t.tensor([[-4.4519, -3.4519, -2.4519, -1.4519, -0.4519]])\n",
    "assert_all_close(actual, expected)"
   ]
  },
  {
   "cell_type": "code",
   "execution_count": 196,
   "metadata": {},
   "outputs": [],
   "source": [
    "def batched_cross_entropy_loss(logits: t.Tensor, true_labels: t.Tensor) -> t.Tensor:\n",
    "    \"\"\"Compute the cross entropy loss for each example in the batch.\n",
    "\n",
    "    logits: shape (batch, classes). logits[i][j] is the unnormalized prediction for example i and class j.\n",
    "    true_labels: shape (batch, ). true_labels[i] is an integer index representing the true class for example i.\n",
    "\n",
    "    Return: shape (batch, ). out[i] is the loss for example i.\n",
    "\n",
    "    Hint: convert the logits to log-probabilities using your batched_logsoftmax from above.\n",
    "    Then the loss for an example is just the negative of the log-probability that the model assigned to the true class. Use torch.gather to perform the indexing.\n",
    "    \"\"\"\n",
    "    logprobs = batched_logsoftmax(logits)\n",
    "    indices = rearrange(true_labels, \"n -> n 1\")\n",
    "    pred_at_index = logprobs.gather(1, indices)\n",
    "    return -rearrange(pred_at_index, \"n 1 -> n\")"
   ]
  },
  {
   "cell_type": "code",
   "execution_count": 197,
   "metadata": {},
   "outputs": [
    {
     "name": "stdout",
     "output_type": "stream",
     "text": [
      "Passed!\n"
     ]
    }
   ],
   "source": [
    "logits = t.tensor([[float(\"-inf\"), float(\"-inf\"), 0], [1 / 3, 1 / 3, 1 / 3], [float(\"-inf\"), 0, 0]])\n",
    "true_labels = t.tensor([2, 0, 0])\n",
    "expected = t.tensor([0.0, math.log(3), float(\"inf\")])\n",
    "actual = batched_cross_entropy_loss(logits, true_labels)\n",
    "assert_all_close(actual, expected)"
   ]
  },
  {
   "cell_type": "code",
   "execution_count": 209,
   "metadata": {},
   "outputs": [],
   "source": [
    "def collect_rows(matrix: t.Tensor, row_indexes: t.Tensor) -> t.Tensor:\n",
    "    \"\"\"Return a 2D matrix whose rows are taken from the input matrix in order according to row_indexes.\n",
    "\n",
    "    matrix: shape (m, n)\n",
    "    row_indexes: shape (k,). Each value is an integer in [0..m).\n",
    "\n",
    "    Return: shape (k, n). out[i] is matrix[row_indexes[i]].\n",
    "    \"\"\"\n",
    "    assert row_indexes.max() < matrix.shape[0]\n",
    "    return matrix[row_indexes]"
   ]
  },
  {
   "cell_type": "code",
   "execution_count": 210,
   "metadata": {},
   "outputs": [
    {
     "name": "stdout",
     "output_type": "stream",
     "text": [
      "Passed!\n"
     ]
    }
   ],
   "source": [
    "matrix = t.arange(15).view((5, 3))\n",
    "row_indexes = t.tensor([0, 2, 1, 0])\n",
    "expected = t.tensor([[0, 1, 2], [6, 7, 8], [3, 4, 5], [0, 1, 2]])\n",
    "actual = collect_rows(matrix, row_indexes)\n",
    "assert_all_equal(actual, expected)"
   ]
  },
  {
   "cell_type": "code",
   "execution_count": 216,
   "metadata": {},
   "outputs": [],
   "source": [
    "def collect_columns(matrix: t.Tensor, column_indexes: t.Tensor) -> t.Tensor:\n",
    "    \"\"\"Return a 2D matrix whose columns are taken from the input matrix in order according to column_indexes.\n",
    "\n",
    "    matrix: shape (m, n)\n",
    "    column_indexes: shape (k,). Each value is an integer in [0..n).\n",
    "\n",
    "    Return: shape (m, k). out[:, i] is matrix[:, column_indexes[i]].\n",
    "    \"\"\"\n",
    "    assert column_indexes.max() < matrix.shape[1]\n",
    "    return matrix[:, column_indexes]"
   ]
  },
  {
   "cell_type": "code",
   "execution_count": 217,
   "metadata": {},
   "outputs": [
    {
     "name": "stdout",
     "output_type": "stream",
     "text": [
      "Passed!\n"
     ]
    }
   ],
   "source": [
    "matrix = t.arange(15).view((5, 3))\n",
    "column_indexes = t.tensor([0, 2, 1, 0])\n",
    "expected = t.tensor([[0, 2, 1, 0], [3, 5, 4, 3], [6, 8, 7, 6], [9, 11, 10, 9], [12, 14, 13, 12]])\n",
    "actual = collect_columns(matrix, column_indexes)\n",
    "assert_all_equal(actual, expected)"
   ]
  },
  {
   "attachments": {},
   "cell_type": "markdown",
   "metadata": {},
   "source": [
    "### Practice with `torch.as_strided`\n",
    "\n",
    "If you're not familiar with `as_strided`, a couple good resources are:\n",
    "\n",
    "- [NumPy For Your Grandma (4 minute video)](https://www.youtube.com/watch?v=VlkzN00P0Bc)\n",
    "- [as_strided and sum are all you need](https://jott.live/markdown/as_strided)\n",
    "\n",
    "Fill in the \"size\" and \"stride\" arguments so that a call to `as_strided` produces the desired output."
   ]
  },
  {
   "cell_type": "code",
   "execution_count": 218,
   "metadata": {},
   "outputs": [],
   "source": [
    "from collections import namedtuple\n",
    "\n",
    "TestCase = namedtuple(\"TestCase\", [\"output\", \"size\", \"stride\"])\n",
    "test_input_a = t.tensor([[0, 1, 2, 3, 4], [5, 6, 7, 8, 9], [10, 11, 12, 13, 14], [15, 16, 17, 18, 19]])"
   ]
  },
  {
   "cell_type": "code",
   "execution_count": 239,
   "metadata": {},
   "outputs": [
    {
     "name": "stdout",
     "output_type": "stream",
     "text": [
      "Test 0 passed!\n",
      "Test 1 passed!\n",
      "Test 2 passed!\n",
      "Test 3 passed!\n",
      "Test 4 passed!\n",
      "Test 5 passed!\n"
     ]
    }
   ],
   "source": [
    "from collections import namedtuple\n",
    "\n",
    "TestCase = namedtuple(\"TestCase\", [\"output\", \"size\", \"stride\"])\n",
    "test_input_a = t.tensor([[0, 1, 2, 3, 4], [5, 6, 7, 8, 9], [10, 11, 12, 13, 14], [15, 16, 17, 18, 19]])\n",
    "test_cases = [\n",
    "    TestCase(output=t.tensor([0, 1, 2, 3]), size=(4,), stride=(1,)),\n",
    "    TestCase(output=t.tensor([[0, 1, 2], [5, 6, 7]]), size=(2,3), stride=(5,1)),\n",
    "    TestCase(output=t.tensor([[0, 0, 0], [11, 11, 11]]), size=(2,3), stride=(11,0)),\n",
    "    TestCase(output=t.tensor([0, 6, 12, 18]), size=(4,), stride=(6,)),\n",
    "    TestCase(output=t.tensor([[[0, 1, 2]], [[9, 10, 11]]]), size=(2,1,3), stride=(9,0,1)),\n",
    "    TestCase(\n",
    "        output=t.tensor([[[[0, 1], [2, 3]], [[4, 5], [6, 7]]], [[[12, 13], [14, 15]], [[16, 17], [18, 19]]]]),\n",
    "        size=(2,2,2,2),\n",
    "        stride=(12,4,2,1),\n",
    "    ),\n",
    "]\n",
    "for (i, case) in enumerate(test_cases):\n",
    "    actual = test_input_a.as_strided(size=case.size, stride=case.stride)\n",
    "    if (case.output != actual).any():\n",
    "        print(f\"Test {i} failed:\")\n",
    "        print(f\"Expected: {case.output}\")\n",
    "        print(f\"Actual: {actual}\")\n",
    "    else:\n",
    "        print(f\"Test {i} passed!\")\n"
   ]
  },
  {
   "cell_type": "markdown",
   "metadata": {},
   "source": [
    "## Implementing ReLU\n",
    "\n",
    "Implement ReLU five different ways. "
   ]
  },
  {
   "cell_type": "code",
   "execution_count": 240,
   "metadata": {},
   "outputs": [],
   "source": [
    "def test_relu(relu_func):\n",
    "    print(f\"Testing: {relu_func.__name__}\")\n",
    "    x = t.arange(-1, 3, dtype=t.float32, requires_grad=True)\n",
    "    out = relu_func(x)\n",
    "    expected = t.tensor([0.0, 0.0, 1.0, 2.0])\n",
    "    assert_all_close(out, expected)"
   ]
  },
  {
   "cell_type": "code",
   "execution_count": 246,
   "metadata": {},
   "outputs": [],
   "source": [
    "def relu_clone_setitem(x: t.Tensor) -> t.Tensor:\n",
    "    \"\"\"Make a copy with torch.clone and then assign to parts of the copy.\"\"\"\n",
    "    y = x.clone()\n",
    "    y[y < 0] = 0.0\n",
    "    return y"
   ]
  },
  {
   "cell_type": "code",
   "execution_count": 248,
   "metadata": {},
   "outputs": [
    {
     "name": "stdout",
     "output_type": "stream",
     "text": [
      "Testing: relu_clone_setitem\n",
      "Passed!\n"
     ]
    }
   ],
   "source": [
    "test_relu(relu_clone_setitem)"
   ]
  },
  {
   "cell_type": "code",
   "execution_count": 252,
   "metadata": {},
   "outputs": [],
   "source": [
    "def relu_where(x: t.Tensor) -> t.Tensor:\n",
    "    \"\"\"Use torch.where.\"\"\"\n",
    "    return t.where(x < 0, 0, x)\n",
    "\n",
    "test_relu(relu_where)\n"
   ]
  },
  {
   "cell_type": "code",
   "execution_count": 262,
   "metadata": {},
   "outputs": [
    {
     "name": "stdout",
     "output_type": "stream",
     "text": [
      "Testing: relu_maximum\n",
      "Passed!\n"
     ]
    }
   ],
   "source": [
    "def relu_maximum(x: t.Tensor) -> t.Tensor:\n",
    "    \"\"\"Use torch.maximum.\"\"\"\n",
    "    return t.maximum(x, t.zeros_like(x))\n",
    "\n",
    "\n",
    "test_relu(relu_maximum)"
   ]
  },
  {
   "cell_type": "code",
   "execution_count": 264,
   "metadata": {},
   "outputs": [
    {
     "name": "stdout",
     "output_type": "stream",
     "text": [
      "Testing: relu_abs\n",
      "Passed!\n"
     ]
    }
   ],
   "source": [
    "def relu_abs(x: t.Tensor) -> t.Tensor:\n",
    "    \"\"\"Use torch.abs.\"\"\"\n",
    "    return (x.abs() + x) / 2.0\n",
    "\n",
    "\n",
    "test_relu(relu_abs)\n"
   ]
  },
  {
   "cell_type": "code",
   "execution_count": 268,
   "metadata": {},
   "outputs": [
    {
     "name": "stdout",
     "output_type": "stream",
     "text": [
      "Testing: relu_multiply_bool\n",
      "Passed!\n"
     ]
    }
   ],
   "source": [
    "def relu_multiply_bool(x: t.Tensor) -> t.Tensor:\n",
    "    \"\"\"Create a boolean tensor and multiply the input by it elementwise.\"\"\"\n",
    "    return x * (x >  0)\n",
    "\n",
    "test_relu(relu_multiply_bool)"
   ]
  }
 ],
 "metadata": {
  "kernelspec": {
   "display_name": "causal",
   "language": "python",
   "name": "python3"
  },
  "language_info": {
   "codemirror_mode": {
    "name": "ipython",
    "version": 3
   },
   "file_extension": ".py",
   "mimetype": "text/x-python",
   "name": "python",
   "nbconvert_exporter": "python",
   "pygments_lexer": "ipython3",
   "version": "3.11.3"
  },
  "orig_nbformat": 4
 },
 "nbformat": 4,
 "nbformat_minor": 2
}
